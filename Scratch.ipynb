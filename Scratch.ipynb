{
 "cells": [
  {
   "cell_type": "code",
   "execution_count": 1,
   "id": "31670f5a-f4d8-43ac-8533-ddd455a6b63c",
   "metadata": {},
   "outputs": [
    {
     "name": "stdout",
     "output_type": "stream",
     "text": [
      "1\n",
      "3\n",
      "5\n",
      "7\n",
      "9\n"
     ]
    }
   ],
   "source": [
    "for number in range(1, 11):\n",
    "\t\t# Skip even numbers\n",
    "\t\tif number % 2 == 0:\n",
    "\t\t\t\tcontinue\n",
    "\t\tprint(number)"
   ]
  },
  {
   "cell_type": "code",
   "execution_count": 2,
   "id": "47d4bfb3-174a-453a-8456-084b441574bc",
   "metadata": {},
   "outputs": [
    {
     "name": "stdout",
     "output_type": "stream",
     "text": [
      "Not yet...\n",
      "Not yet...\n",
      "Not yet...\n",
      "Not yet...\n",
      "Number found!\n"
     ]
    }
   ],
   "source": [
    "# Search for the number 5 in a list\n",
    "numbers = [1, 2, 3, 4, 5, 6, 7, 8, 9, 10]\n",
    "\n",
    "for number in numbers:\n",
    "\t\tif number == 5:\n",
    "\t\t\t\tprint(\"Number found!\")\n",
    "\t\t\t\tbreak\n",
    "\t\telse:\n",
    "\t\t\t\tprint(\"Not yet...\")"
   ]
  },
  {
   "cell_type": "code",
   "execution_count": 4,
   "id": "4fca27bf-ff65-47ba-a648-d736da0d96a6",
   "metadata": {},
   "outputs": [
    {
     "name": "stdout",
     "output_type": "stream",
     "text": [
      "h\n",
      "e\n",
      "l\n",
      "l\n",
      "o\n"
     ]
    }
   ],
   "source": [
    "message = \"hello\"\n",
    "\n",
    "for i in range(0, len(message)):\n",
    "\t\tprint(message[i])"
   ]
  },
  {
   "cell_type": "code",
   "execution_count": 94,
   "id": "6d5bcfbc-3a08-43d3-983c-05ae70565d06",
   "metadata": {},
   "outputs": [],
   "source": [
    "def shift_letter(letter, shift):\n",
    "    '''Shift Letter.\n",
    "    5 points.\n",
    "\n",
    "    Shift a letter right by the given number.\n",
    "    Wrap the letter around if it reaches the end of the alphabet.\n",
    "\n",
    "    Examples:\n",
    "    shift_letter(\"A\", 0) -> \"A\"\n",
    "    shift_letter(\"A\", 2) -> \"C\"\n",
    "    shift_letter(\"Z\", 1) -> \"A\"\n",
    "    shift_letter(\"X\", 5) -> \"C\"\n",
    "    shift_letter(\" \", _) -> \" \"\n",
    "\n",
    "    *Note: the single underscore `_` is used to acknowledge the presence\n",
    "        of a value without caring about its contents.\n",
    "\n",
    "    Parameters\n",
    "    ----------\n",
    "    letter: str\n",
    "        a single uppercase English letter, or a space.\n",
    "    shift: int\n",
    "        the number by which to shift the letter.\n",
    "\n",
    "    Returns\n",
    "    -------\n",
    "    str\n",
    "        the letter, shifted appropriately, if a letter.\n",
    "        a single space if the original letter was a space.\n",
    "    '''\n",
    "    # Replace `pass` with your code.\n",
    "    # Stay within the function. Only use the parameters as input. The function should return your answer.\n",
    "    \n",
    "    letter = str(letter.upper())\n",
    "    shift = int(shift)\n",
    "    \n",
    "    if letter == \" \":\n",
    "        return \" \"\n",
    "    \n",
    "    alphabet = 'ABCDEFGHIJKLMNOPQRSTUVWXYZ'\n",
    "    num_letters = len(alphabet)\n",
    "    \n",
    "    letter_index = alphabet.index(letter)\n",
    "    shifted_index = (letter_index + shift) % num_letters\n",
    "    \n",
    "    shifted_letter = alphabet[shifted_index]\n",
    "    \n",
    "    return str(shifted_letter)\n",
    "    "
   ]
  },
  {
   "cell_type": "code",
   "execution_count": 75,
   "id": "c7fd297d-d07b-4e8c-a296-a58fd608d5ac",
   "metadata": {},
   "outputs": [],
   "source": [
    "def caesar_cipher(message, shift):\n",
    "    '''Caesar Cipher.\n",
    "    10 points.\n",
    "\n",
    "    Apply a shift number to a string of uppercase English letters and spaces.\n",
    "\n",
    "    Parameters\n",
    "    ----------\n",
    "    message: str\n",
    "        a string of uppercase English letters and spaces.\n",
    "    shift: int\n",
    "        the number by which to shift the letters.\n",
    "\n",
    "    Returns\n",
    "    -------\n",
    "    str\n",
    "        the message, shifted appropriately.\n",
    "    '''\n",
    "    # Replace `pass` with your code.\n",
    "    # Stay within the function. Only use the parameters as input. The function should return your answer.\n",
    "    \n",
    "    message = str(message.upper())\n",
    "    shift = int(shift)\n",
    "    \n",
    "    caesar_cipher = \"\"\n",
    "    \n",
    "    for letter in message:\n",
    "        \n",
    "        space = \" \"\n",
    "        alphabet = \"ABCDEFGHIJKLMNOPQRSTUVWXYZ\"\n",
    "        num_letters = len(alphabet)\n",
    "        \n",
    "        if letter in alphabet:\n",
    "            letter_index = alphabet.index(letter)\n",
    "            shifted_index = (letter_index + shift) % num_letters\n",
    "            shifted_letter = alphabet[shifted_index]\n",
    "            \n",
    "        elif letter == space:\n",
    "            shifted_letter = space\n",
    "            \n",
    "        else:\n",
    "            shifted_letter = letter\n",
    "            \n",
    "        caesar_cipher = caesar_cipher + shifted_letter\n",
    "        \n",
    "    return str(caesar_cipher)\n",
    "        "
   ]
  },
  {
   "cell_type": "code",
   "execution_count": 77,
   "id": "8d3bef49-337f-4d68-9020-704eb569c426",
   "metadata": {},
   "outputs": [
    {
     "data": {
      "text/plain": [
       "'KHOOR ZRUOG!'"
      ]
     },
     "execution_count": 77,
     "metadata": {},
     "output_type": "execute_result"
    }
   ],
   "source": [
    "caesar_cipher(\"hello world!\", 3)"
   ]
  },
  {
   "cell_type": "code",
   "execution_count": 91,
   "id": "7c6a1ee2-7a46-4e68-bcb8-b48508f870f8",
   "metadata": {},
   "outputs": [],
   "source": [
    "def shift_by_letter(letter, letter_shift):\n",
    "    '''Shift By Letter.\n",
    "    10 points.\n",
    "\n",
    "    Shift a letter to the right using the number equivalent of another letter.\n",
    "    The shift letter is any letter from A to Z, where A represents 0, B represents 1,\n",
    "        ..., Z represents 25.\n",
    "\n",
    "    Examples:\n",
    "    shift_by_letter(\"A\", \"A\") -> \"A\"\n",
    "    shift_by_letter(\"A\", \"C\") -> \"C\"\n",
    "    shift_by_letter(\"B\", \"K\") -> \"L\"\n",
    "    shift_by_letter(\" \", _) -> \" \"\n",
    "\n",
    "    Parameters\n",
    "    ----------\n",
    "    letter: str\n",
    "        a single uppercase English letter, or a space.\n",
    "    letter_shift: str\n",
    "        a single uppercase English letter.\n",
    "\n",
    "    Returns\n",
    "    -------\n",
    "    str\n",
    "        the letter, shifted appropriately.\n",
    "    '''\n",
    "    # Replace `pass` with your code.\n",
    "    # Stay within the function. Only use the parameters as input. The function should return your answer.\n",
    "    \n",
    "    letter = str(letter.upper())\n",
    "    letter_shift = str(letter_shift.upper())\n",
    "    \n",
    "    if letter == \" \":\n",
    "        return \" \"\n",
    "    \n",
    "    alphabet = 'ABCDEFGHIJKLMNOPQRSTUVWXYZ'\n",
    "    num_letters = len(alphabet)\n",
    "    \n",
    "    letter_index = alphabet.index(letter)\n",
    "    letter_shift_index = alphabet.index(letter_shift)\n",
    "    shifted_index = (letter_index + letter_shift_index) % num_letters\n",
    "    \n",
    "    shifted_letter = alphabet[shifted_index]\n",
    "    \n",
    "    return str(shifted_letter)"
   ]
  },
  {
   "cell_type": "code",
   "execution_count": 92,
   "id": "02ddc4e7-8906-4c6c-99ae-f20436b27fcb",
   "metadata": {},
   "outputs": [
    {
     "data": {
      "text/plain": [
       "' '"
      ]
     },
     "execution_count": 92,
     "metadata": {},
     "output_type": "execute_result"
    }
   ],
   "source": [
    "shift_by_letter(\" \", _)"
   ]
  },
  {
   "cell_type": "code",
   "execution_count": 43,
   "id": "c8138ba3-cc2c-4a1f-95c7-11089e26af64",
   "metadata": {},
   "outputs": [],
   "source": [
    "def vigenere_cipher(message, key):\n",
    "    '''Vigenere Cipher.\n",
    "    15 points.\n",
    "\n",
    "    Encrypts a message using a keyphrase instead of a static number.\n",
    "    Every letter in the message is shifted by the number represented by the\n",
    "        respective letter in the key.\n",
    "    Spaces should be ignored.\n",
    "\n",
    "    Example:\n",
    "    vigenere_cipher(\"A C\", \"KEY\") -> \"K A\"\n",
    "\n",
    "    If needed, the keyphrase is extended to match the length of the key.\n",
    "        If the key is \"KEY\" and the message is \"LONGTEXT\",\n",
    "        the key will be extended to be \"KEYKEYKE\".\n",
    "\n",
    "    Parameters\n",
    "    ----------\n",
    "    message: str\n",
    "        a string of uppercase English letters and spaces.\n",
    "    key: str\n",
    "        a string of uppercase English letters. Will never be longer than the message.\n",
    "        Will never contain spaces.\n",
    "\n",
    "    Returns\n",
    "    -------\n",
    "    str\n",
    "        the message, shifted appropriately.\n",
    "    '''\n",
    "    # Replace `pass` with your code.\n",
    "    # Stay within the function. Only use the parameters as input. The function should return your answer.\n",
    "    \n",
    "    message = str(message.upper())\n",
    "    key = str(key.upper())\n",
    "    encrypted_message = \"\"\n",
    "\n",
    "    extended_key = key * (len(message) // len(key)) + key[:len(message) % len(key)]\n",
    "    \n",
    "    for i in range(len(extended_key)):\n",
    "        \n",
    "        key_letter = extended_key[i]\n",
    "        letter = message[i]\n",
    "\n",
    "        space = \" \"\n",
    "        alphabet = \"ABCDEFGHIJKLMNOPQRSTUVWXYZ\"\n",
    "        num_letters = len(alphabet)\n",
    "\n",
    "        if letter in alphabet:\n",
    "\n",
    "            letter_index = alphabet.index(letter)\n",
    "            letter_shift_index = alphabet.index(key_letter)\n",
    "            shifted_index = (letter_index + letter_shift_index) % num_letters\n",
    "            shifted_letter = alphabet[shifted_index]\n",
    "\n",
    "        elif letter == space:\n",
    "\n",
    "            shifted_letter = space\n",
    "\n",
    "        else:\n",
    "\n",
    "            shifted_letter = letter\n",
    "            \n",
    "        encrypted_message = encrypted_message + shifted_letter\n",
    "        \n",
    "    return str(encrypted_message)\n",
    "                "
   ]
  },
  {
   "cell_type": "code",
   "execution_count": 46,
   "id": "2e1445bc-8395-4166-901a-cf598962d407",
   "metadata": {},
   "outputs": [
    {
     "data": {
      "text/plain": [
       "'KFA!'"
      ]
     },
     "execution_count": 46,
     "metadata": {},
     "output_type": "execute_result"
    }
   ],
   "source": [
    "vigenere_cipher(\"ABC!\",\"KEY\")"
   ]
  },
  {
   "cell_type": "code",
   "execution_count": 80,
   "id": "7881ce92-7ce9-46b6-bb4d-f9f0c468052b",
   "metadata": {},
   "outputs": [],
   "source": [
    "def scytale_cipher(message, shift):\n",
    "    '''Scytale Cipher.\n",
    "    15 points.\n",
    "\n",
    "    Encrypts a message by simulating a scytale cipher.\n",
    "\n",
    "    A scytale is a cylinder around which you can wrap a long strip of\n",
    "        parchment that contained a string of apparent gibberish. The parchment,\n",
    "        when read using the scytale, would reveal a message due to every nth\n",
    "        letter now appearing next to each other, revealing a proper message.\n",
    "    This encryption method is obsolete and should never be used to encrypt\n",
    "        data in production settings.\n",
    "\n",
    "    You may read more about the method here:\n",
    "        https://en.wikipedia.org/wiki/Scytale\n",
    "\n",
    "    You may follow this algorithm to implement a scytale-style cipher:\n",
    "    1. Take a message to be encoded and a \"shift\" number.\n",
    "        For this example, we will use \"INFORMATION_AGE\" as\n",
    "        the message and 3 as the shift.\n",
    "    2. Check if the length of the message is a multiple of\n",
    "        the shift. If it is not, add additional underscores\n",
    "        to the end of the message until it is.\n",
    "        In this example, \"INFORMATION_AGE\" is already a multiple of 3,\n",
    "        so we will leave it alone.\n",
    "    3. This is the tricky part. Construct the encoded message.\n",
    "        For each index i in the encoded message, use the character at the index\n",
    "        (i // shift) + (len(message) // shift) * (i % shift) of the raw message.\n",
    "        If this number doesn't make sense, you can play around with the cipher at\n",
    "         https://dencode.com/en/cipher/scytale to try to understand it.\n",
    "    4. Return the encoded message. In this case,\n",
    "        the output should be \"IMNNA_FTAOIGROE\".\n",
    "\n",
    "    Example:\n",
    "    scytale_cipher(\"INFORMATION_AGE\", 3) -> \"IMNNA_FTAOIGROE\"\n",
    "    scytale_cipher(\"INFORMATION_AGE\", 4) -> \"IRIANMOGFANEOT__\"\n",
    "    scytale_cipher(\"ALGORITHMS_ARE_IMPORTANT\", 8) -> \"AOTSRIOALRH_EMRNGIMA_PTT\"\n",
    "\n",
    "    Parameters\n",
    "    ----------\n",
    "    message: str\n",
    "        a string of uppercase English letters and underscores (underscores represent spaces)\n",
    "    shift: int\n",
    "        a positive int that does not exceed the length of message\n",
    "\n",
    "    Returns\n",
    "    -------\n",
    "    str\n",
    "        the encoded message\n",
    "    '''\n",
    "    # Replace `pass` with your code.\n",
    "    # Stay within the function. Only use the parameters as input. The function should return your answer.\n",
    "    \n",
    "    message = str(message)\n",
    "    shift = int(shift)\n",
    "    scytale_cipher = \"\"\n",
    "    underscore = \"_\"\n",
    "    \n",
    "    if (len(message) % shift) == 0:\n",
    "        \n",
    "        for i in range(len(message)):\n",
    "            \n",
    "            index = (i // shift) + (len(message) // shift) * (i % shift)\n",
    "            \n",
    "            scytale_cipher = scytale_cipher + message[index]\n",
    "            \n",
    "    elif (len(message) % shift) != 0:\n",
    "        \n",
    "        extended_message = message + (underscore * (shift - (len(message) % shift)))\n",
    "        \n",
    "        for i in range(len(extended_message)):\n",
    "            \n",
    "            index = (i // shift) + (len(message) // shift) * (i % shift)\n",
    "            \n",
    "            scytale_cipher = scytale_cipher + extended_message[index]\n",
    "            \n",
    "    return scytale_cipher\n",
    "        \n",
    "    "
   ]
  },
  {
   "cell_type": "code",
   "execution_count": 85,
   "id": "511c457e-4543-457e-97d7-96ff1703595c",
   "metadata": {},
   "outputs": [
    {
     "data": {
      "text/plain": [
       "'IRIANMOGFANEOT__'"
      ]
     },
     "execution_count": 85,
     "metadata": {},
     "output_type": "execute_result"
    }
   ],
   "source": [
    "scytale_cipher(\"INFORMATION_AGE_\", 4)"
   ]
  },
  {
   "cell_type": "code",
   "execution_count": 134,
   "id": "969d6096-19b8-4174-9420-5a918e45b945",
   "metadata": {},
   "outputs": [],
   "source": [
    "def scytale_decipher(message, shift):\n",
    "    '''Scytale De-cipher.\n",
    "    15 points.\n",
    "\n",
    "    Decrypts a message that was originally encrypted with the `scytale_cipher` function above.\n",
    "\n",
    "    Example:\n",
    "    scytale_decipher(\"IMNNA_FTAOIGROE\", 3) -> \"INFORMATION_AGE\"\n",
    "    scytale_decipher(\"AOTSRIOALRH_EMRNGIMA_PTT\", 8) -> \"ALGORITHMS_ARE_IMPORTANT\"\n",
    "    scytale_decipher(\"IRIANMOGFANEOT__\", 4) -> \"INFORMATION_AGE_\"\n",
    "\n",
    "    There is no further brief for this number.\n",
    "    \n",
    "    Parameters\n",
    "    ----------\n",
    "    message: str\n",
    "        a string of uppercase English letters and underscores (underscores represent spaces)\n",
    "    shift: int\n",
    "        a positive int that does not exceed the length of message\n",
    "\n",
    "    Returns\n",
    "    -------\n",
    "    str\n",
    "        the decoded message\n",
    "    '''\n",
    "    # Replace `pass` with your code.\n",
    "    # Stay within the function. Only use the parameters as input. The function should return your answer.\n",
    "    \n",
    "    message = str(message.upper())\n",
    "    shift = int(shift)\n",
    "    \n",
    "    syctale_decipher = \"\"\n",
    "    \n",
    "    for number in range(len(message)):\n",
    "        \n",
    "        index = (number % (len(message) // shift) * (shift) + (number // (len(message) // shift)))\n",
    "        \n",
    "        syctale_decipher = syctale_decipher + message[index]\n",
    "        \n",
    "    return syctale_decipher\n",
    "    \n",
    "    "
   ]
  },
  {
   "cell_type": "code",
   "execution_count": 135,
   "id": "d7a67b1d-addb-4996-bb15-5a1e815277e7",
   "metadata": {},
   "outputs": [
    {
     "data": {
      "text/plain": [
       "'ALGORITHMS_ARE_IMPORTANT'"
      ]
     },
     "execution_count": 135,
     "metadata": {},
     "output_type": "execute_result"
    }
   ],
   "source": [
    "scytale_decipher(\"AOTSRIOALRH_EMRNGIMA_PTT\", 8)"
   ]
  },
  {
   "cell_type": "code",
   "execution_count": null,
   "id": "643a66d9-1847-4c01-b7a6-34adafcae589",
   "metadata": {},
   "outputs": [],
   "source": []
  }
 ],
 "metadata": {
  "kernelspec": {
   "display_name": "Python 3 (ipykernel)",
   "language": "python",
   "name": "python3"
  },
  "language_info": {
   "codemirror_mode": {
    "name": "ipython",
    "version": 3
   },
   "file_extension": ".py",
   "mimetype": "text/x-python",
   "name": "python",
   "nbconvert_exporter": "python",
   "pygments_lexer": "ipython3",
   "version": "3.10.9"
  }
 },
 "nbformat": 4,
 "nbformat_minor": 5
}
