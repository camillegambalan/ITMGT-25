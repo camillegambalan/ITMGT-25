{
 "cells": [
  {
   "cell_type": "code",
   "execution_count": 20,
   "id": "b2aef6d2-b428-490b-9471-c1eee12878e4",
   "metadata": {},
   "outputs": [],
   "source": [
    "def eta(first_stop, second_stop, route_map):\n",
    "\n",
    "    now = first_stop  \n",
    "    #current stop = first stop\n",
    "    legs = tuple(route_map.keys())  \n",
    "    #get list of legs in the route map\n",
    "    total_time = 0  \n",
    "    #cumulative time\n",
    "    next_stop = None  \n",
    "    #checks if direct leg or next stop is found\n",
    "\n",
    "    legs = tuple(route_map.keys())  \n",
    "    total_time = 0  \n",
    "    next_stop = None  \n",
    "    while first_stop != second_stop:  \n",
    "        if (first_stop, second_stop) in route_map:\n",
    "            total_time += route_map[(first_stop, second_stop)]['travel_time_mins']\n",
    "            break  \n",
    "        else:\n",
    "            for leg in route_map:\n",
    "                if leg[0] == first_stop:\n",
    "                    next_stop = leg[1]  \n",
    "                    total_time += route_map[leg]['travel_time_mins']  \n",
    "                    break\n",
    "            if next_stop is None:\n",
    "                break\n",
    "            first_stop = next_stop  \n",
    "    return total_time"
   ]
  },
  {
   "cell_type": "code",
   "execution_count": 21,
   "id": "b9f0436f-7f0e-4248-9106-8094c1b8e4aa",
   "metadata": {},
   "outputs": [
    {
     "data": {
      "text/plain": [
       "10"
      ]
     },
     "execution_count": 21,
     "metadata": {},
     "output_type": "execute_result"
    }
   ],
   "source": [
    "eta(\"upd\", \"admu\", {\n",
    "     (\"upd\",\"admu\"):{\n",
    "         \"travel_time_mins\":10\n",
    "     },\n",
    "     (\"admu\",\"dlsu\"):{\n",
    "         \"travel_time_mins\":35\n",
    "     },\n",
    "     (\"dlsu\",\"upd\"):{\n",
    "         \"travel_time_mins\":55\n",
    "     }\n",
    "})"
   ]
  },
  {
   "cell_type": "code",
   "execution_count": null,
   "id": "d78cc362-3c62-4334-b82b-e6e866579d06",
   "metadata": {},
   "outputs": [],
   "source": []
  }
 ],
 "metadata": {
  "kernelspec": {
   "display_name": "Python 3 (ipykernel)",
   "language": "python",
   "name": "python3"
  },
  "language_info": {
   "codemirror_mode": {
    "name": "ipython",
    "version": 3
   },
   "file_extension": ".py",
   "mimetype": "text/x-python",
   "name": "python",
   "nbconvert_exporter": "python",
   "pygments_lexer": "ipython3",
   "version": "3.10.9"
  }
 },
 "nbformat": 4,
 "nbformat_minor": 5
}
