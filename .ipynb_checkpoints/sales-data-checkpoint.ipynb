{
 "cells": [
  {
   "cell_type": "code",
   "execution_count": 39,
   "id": "20405431-96f2-43c6-8315-d60248223289",
   "metadata": {},
   "outputs": [],
   "source": [
    "import pandas as pd\n",
    "import matplotlib.pyplot as plt\n",
    "import datetime\n",
    "import numpy as np\n",
    "\n",
    "invoices = pd.read_csv('fct_invoice.csv')\n",
    "customers = pd.read_json('dim_customer.json')"
   ]
  },
  {
   "cell_type": "markdown",
   "id": "6d048645-4a8f-4334-8736-4e74bf73da63",
   "metadata": {},
   "source": [
    "# Easy"
   ]
  },
  {
   "cell_type": "markdown",
   "id": "3f8a50d1-f46f-4b0e-a8f0-4efaffd9062c",
   "metadata": {},
   "source": [
    "1. How many unique customers are in the dataset?"
   ]
  },
  {
   "cell_type": "code",
   "execution_count": 43,
   "id": "344c1267-4b41-4e24-9b2b-2bd6a03d4ace",
   "metadata": {},
   "outputs": [
    {
     "data": {
      "text/plain": [
       "5191"
      ]
     },
     "execution_count": 43,
     "metadata": {},
     "output_type": "execute_result"
    }
   ],
   "source": [
    "invoices['customer_id'].nunique()"
   ]
  },
  {
   "cell_type": "markdown",
   "id": "31b99b14-4303-4c6e-8732-61673be7a803",
   "metadata": {},
   "source": [
    "2. What are the different categories of products available? How many unique categories are there?"
   ]
  },
  {
   "cell_type": "code",
   "execution_count": 49,
   "id": "a664557f-2136-4229-8e1d-2f47a0333082",
   "metadata": {},
   "outputs": [
    {
     "name": "stdout",
     "output_type": "stream",
     "text": [
      "Different Categories of Products Available:\n",
      "Clothing\n",
      "Shoes\n",
      "Books\n",
      "Cosmetics\n",
      "Food & Beverage\n",
      "Toys\n",
      "Technology\n",
      "Souvenir\n",
      "\n",
      "Unique Categories:\n",
      "8\n"
     ]
    }
   ],
   "source": [
    "print(\"Different Categories of Products Available:\")\n",
    "for i in invoices['category'].unique():\n",
    "    print(i)\n",
    "print(\"\\nUnique Categories:\")\n",
    "print(invoices['category'].nunique())"
   ]
  },
  {
   "cell_type": "markdown",
   "id": "3909e8d6-5f5c-4016-a77f-4b798b14b7b0",
   "metadata": {},
   "source": [
    "3. Which payment method is the most popular? How many times was it used?"
   ]
  },
  {
   "cell_type": "code",
   "execution_count": 55,
   "id": "5dd31c47-1f6c-4ba8-8add-45466b25f9e2",
   "metadata": {},
   "outputs": [
    {
     "data": {
      "text/plain": [
       "Cash    44447\n",
       "Name: payment_method, dtype: int64"
      ]
     },
     "execution_count": 55,
     "metadata": {},
     "output_type": "execute_result"
    }
   ],
   "source": [
    "invoices['payment_method'].value_counts().head(1)"
   ]
  },
  {
   "cell_type": "markdown",
   "id": "9464cb1a-013c-40a3-b14c-7e8cae76b6f2",
   "metadata": {},
   "source": [
    "# Medium"
   ]
  },
  {
   "cell_type": "markdown",
   "id": "08282663-e620-4e08-b920-d03e96f50714",
   "metadata": {},
   "source": [
    "1. What are the three most popular categories, by total sales?"
   ]
  },
  {
   "cell_type": "code",
   "execution_count": 59,
   "id": "1200eefb-9509-4fad-855e-4c7f553d7087",
   "metadata": {},
   "outputs": [
    {
     "data": {
      "text/plain": [
       "Clothing           34487\n",
       "Cosmetics          15097\n",
       "Food & Beverage    14776\n",
       "Name: category, dtype: int64"
      ]
     },
     "execution_count": 59,
     "metadata": {},
     "output_type": "execute_result"
    }
   ],
   "source": [
    "invoices['category'].value_counts().head(3)"
   ]
  },
  {
   "cell_type": "markdown",
   "id": "ff27358b-b8ff-4288-b245-f938f9af86fe",
   "metadata": {},
   "source": [
    "2. What are the total sales attributed to customers over the age of 45?"
   ]
  },
  {
   "cell_type": "code",
   "execution_count": 87,
   "id": "7da9f3b4-abd0-4b92-ae7c-46cfdb8be560",
   "metadata": {},
   "outputs": [
    {
     "data": {
      "text/plain": [
       "32627"
      ]
     },
     "execution_count": 87,
     "metadata": {},
     "output_type": "execute_result"
    }
   ],
   "source": [
    "customers.rename(columns={\"id\":\"customer_id\"})\n",
    "merged = pd.merge(invoices,customers,left_on=\"customer_id\",right_on=\"id\")\n",
    "age_and_id = merged[['age','id']]\n",
    "age = age_and_id['age']\n",
    "age_is_45_above = age > 45\n",
    "merged[age_is_45_above].shape[0]"
   ]
  },
  {
   "cell_type": "markdown",
   "id": "17dc63e6-6338-4caa-a747-132398fd17ac",
   "metadata": {},
   "source": [
    "3. How is the data distributed across different invoice dates? Are there any seasonal trends or patterns? (Use a graph for this.)"
   ]
  },
  {
   "cell_type": "code",
   "execution_count": 122,
   "id": "85834540-d67d-426a-8781-392413dc1b8f",
   "metadata": {},
   "outputs": [
    {
     "data": {
      "image/png": "[encoded data removed]",
      "text/plain": [
       "<Figure size 640x480 with 1 Axes>"
      ]
     },
     "metadata": {},
     "output_type": "display_data"
    }
   ],
   "source": [
    "invoices['invoice_date'] = pd.DatetimeIndex(invoices['invoice_date'], dayfirst = True)\n",
    "invoices['month'] = pd.DatetimeIndex(invoices['invoice_date']).month\n",
    "\n",
    "conditions = [\n",
    "    (invoices['month'].isin([12, 1, 2])),\n",
    "    (invoices['month'].isin([3, 4, 5])),\n",
    "    (invoices['month'].isin([6, 7, 8])),\n",
    "    (invoices['month'].isin([9, 10, 11]))\n",
    "]\n",
    "\n",
    "seasons = ['Winter', 'Spring', 'Summer', 'Autumn']\n",
    "\n",
    "invoices['season'] = np.select(conditions, seasons)\n",
    "\n",
    "sales = list(invoices['season'].value_counts())\n",
    "\n",
    "plt.bar(seasons,sales)\n",
    "\n",
    "plt.xlabel('Seasons')\n",
    "plt.ylabel('Sales')\n",
    "plt.title('Sales Seasonal Trends or Patterns')\n",
    "\n",
    "plt.show()"
   ]
  },
  {
   "cell_type": "markdown",
   "id": "fbdc4c16-6abb-4f06-b643-7f7ef0243de1",
   "metadata": {},
   "source": [
    "# Hard"
   ]
  },
  {
   "cell_type": "markdown",
   "id": "af6289d1-6330-4c92-85f7-7d14851483ad",
   "metadata": {},
   "source": [
    "1. Create a pivot table showing the breakdown of sales across these dimensions, in this order: category, decade age range (e.g., 10-19, 20-29, and so forth)."
   ]
  },
  {
   "cell_type": "code",
   "execution_count": 123,
   "id": "e8ace5a8-f177-4d66-a268-cd857a6ee168",
   "metadata": {},
   "outputs": [
    {
     "data": {
      "text/html": [
       "<div>\n",
       "<style scoped>\n",
       "    .dataframe tbody tr th:only-of-type {\n",
       "        vertical-align: middle;\n",
       "    }\n",
       "\n",
       "    .dataframe tbody tr th {\n",
       "        vertical-align: top;\n",
       "    }\n",
       "\n",
       "    .dataframe thead th {\n",
       "        text-align: right;\n",
       "    }\n",
       "</style>\n",
       "<table border=\"1\" class=\"dataframe\">\n",
       "  <thead>\n",
       "    <tr style=\"text-align: right;\">\n",
       "      <th>age</th>\n",
       "      <th>[10, 20)</th>\n",
       "      <th>[20, 30)</th>\n",
       "      <th>[30, 40)</th>\n",
       "      <th>[40, 50)</th>\n",
       "      <th>[50, 60)</th>\n",
       "      <th>[60, 70)</th>\n",
       "      <th>[70, 80)</th>\n",
       "      <th>[80, 90)</th>\n",
       "      <th>[90, 100)</th>\n",
       "    </tr>\n",
       "    <tr>\n",
       "      <th>category</th>\n",
       "      <th></th>\n",
       "      <th></th>\n",
       "      <th></th>\n",
       "      <th></th>\n",
       "      <th></th>\n",
       "      <th></th>\n",
       "      <th></th>\n",
       "      <th></th>\n",
       "      <th></th>\n",
       "    </tr>\n",
       "  </thead>\n",
       "  <tbody>\n",
       "    <tr>\n",
       "      <th>Books</th>\n",
       "      <td>229</td>\n",
       "      <td>1427</td>\n",
       "      <td>1518</td>\n",
       "      <td>1542</td>\n",
       "      <td>1364</td>\n",
       "      <td>1420</td>\n",
       "      <td>1019</td>\n",
       "      <td>500</td>\n",
       "      <td>0</td>\n",
       "    </tr>\n",
       "    <tr>\n",
       "      <th>Clothing</th>\n",
       "      <td>1727</td>\n",
       "      <td>9392</td>\n",
       "      <td>10247</td>\n",
       "      <td>10220</td>\n",
       "      <td>9343</td>\n",
       "      <td>9700</td>\n",
       "      <td>7055</td>\n",
       "      <td>4095</td>\n",
       "      <td>0</td>\n",
       "    </tr>\n",
       "    <tr>\n",
       "      <th>Cosmetics</th>\n",
       "      <td>730</td>\n",
       "      <td>4060</td>\n",
       "      <td>4871</td>\n",
       "      <td>4460</td>\n",
       "      <td>3958</td>\n",
       "      <td>4344</td>\n",
       "      <td>2807</td>\n",
       "      <td>1752</td>\n",
       "      <td>0</td>\n",
       "    </tr>\n",
       "    <tr>\n",
       "      <th>Food &amp; Beverage</th>\n",
       "      <td>697</td>\n",
       "      <td>3906</td>\n",
       "      <td>4540</td>\n",
       "      <td>4677</td>\n",
       "      <td>3824</td>\n",
       "      <td>4243</td>\n",
       "      <td>2862</td>\n",
       "      <td>1637</td>\n",
       "      <td>0</td>\n",
       "    </tr>\n",
       "    <tr>\n",
       "      <th>Shoes</th>\n",
       "      <td>457</td>\n",
       "      <td>2716</td>\n",
       "      <td>3186</td>\n",
       "      <td>3148</td>\n",
       "      <td>2652</td>\n",
       "      <td>2696</td>\n",
       "      <td>2017</td>\n",
       "      <td>1180</td>\n",
       "      <td>0</td>\n",
       "    </tr>\n",
       "    <tr>\n",
       "      <th>Souvenir</th>\n",
       "      <td>281</td>\n",
       "      <td>1304</td>\n",
       "      <td>1496</td>\n",
       "      <td>1514</td>\n",
       "      <td>1286</td>\n",
       "      <td>1307</td>\n",
       "      <td>903</td>\n",
       "      <td>558</td>\n",
       "      <td>0</td>\n",
       "    </tr>\n",
       "    <tr>\n",
       "      <th>Technology</th>\n",
       "      <td>274</td>\n",
       "      <td>1359</td>\n",
       "      <td>1590</td>\n",
       "      <td>1553</td>\n",
       "      <td>1162</td>\n",
       "      <td>1457</td>\n",
       "      <td>931</td>\n",
       "      <td>522</td>\n",
       "      <td>0</td>\n",
       "    </tr>\n",
       "    <tr>\n",
       "      <th>Toys</th>\n",
       "      <td>480</td>\n",
       "      <td>2859</td>\n",
       "      <td>3217</td>\n",
       "      <td>2983</td>\n",
       "      <td>2626</td>\n",
       "      <td>2797</td>\n",
       "      <td>2078</td>\n",
       "      <td>1201</td>\n",
       "      <td>0</td>\n",
       "    </tr>\n",
       "  </tbody>\n",
       "</table>\n",
       "</div>"
      ],
      "text/plain": [
       "age              [10, 20)  [20, 30)  [30, 40)  [40, 50)  [50, 60)  [60, 70)  \\\n",
       "category                                                                      \n",
       "Books                 229      1427      1518      1542      1364      1420   \n",
       "Clothing             1727      9392     10247     10220      9343      9700   \n",
       "Cosmetics             730      4060      4871      4460      3958      4344   \n",
       "Food & Beverage       697      3906      4540      4677      3824      4243   \n",
       "Shoes                 457      2716      3186      3148      2652      2696   \n",
       "Souvenir              281      1304      1496      1514      1286      1307   \n",
       "Technology            274      1359      1590      1553      1162      1457   \n",
       "Toys                  480      2859      3217      2983      2626      2797   \n",
       "\n",
       "age              [70, 80)  [80, 90)  [90, 100)  \n",
       "category                                        \n",
       "Books                1019       500          0  \n",
       "Clothing             7055      4095          0  \n",
       "Cosmetics            2807      1752          0  \n",
       "Food & Beverage      2862      1637          0  \n",
       "Shoes                2017      1180          0  \n",
       "Souvenir              903       558          0  \n",
       "Technology            931       522          0  \n",
       "Toys                 2078      1201          0  "
      ]
     },
     "execution_count": 123,
     "metadata": {},
     "output_type": "execute_result"
    }
   ],
   "source": [
    "decades = pd.cut(merged['age'],bins = range(10, 101, 10),right = False)\n",
    "merged.pivot_table(index = \"category\",columns = decades,values = \"quantity\",aggfunc = \"sum\")"
   ]
  },
  {
   "cell_type": "code",
   "execution_count": null,
   "id": "a3838e96-299d-4095-a4e8-d9b9617f93c1",
   "metadata": {},
   "outputs": [],
   "source": []
  }
 ],
 "metadata": {
  "kernelspec": {
   "display_name": "Python 3 (ipykernel)",
   "language": "python",
   "name": "python3"
  },
  "language_info": {
   "codemirror_mode": {
    "name": "ipython",
    "version": 3
   },
   "file_extension": ".py",
   "mimetype": "text/x-python",
   "name": "python",
   "nbconvert_exporter": "python",
   "pygments_lexer": "ipython3",
   "version": "3.10.9"
  }
 },
 "nbformat": 4,
 "nbformat_minor": 5
}
